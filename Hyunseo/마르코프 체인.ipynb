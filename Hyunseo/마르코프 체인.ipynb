{
 "cells": [
  {
   "cell_type": "markdown",
   "metadata": {},
   "source": [
    "## 출처 \n",
    "1. Rajbhandari, Rajat, \"Bus arrival time prediction using stochastic time series and Markov chains\" (2004). Dissertations. 683. \n",
    "https://digitalcommons.njit.edu/dissertations/683\n",
    "2. 허종관, 김세중, 도재현, 한국체육과학회지 25(5), 2016.10, 1269-1276(8 pages)\n",
    "Korean Journal of Sports Science 25(5), 2016.10, 1269-1276(8 pages)\n"
   ]
  },
  {
   "cell_type": "markdown",
   "metadata": {},
   "source": [
    "## Markov Chain\n",
    "- n+1회의 상태(state)는 오직 n회에서의 상태, 혹은 그 이전 일정 기간의 상태에만 영향을 받는 것을 의미\n",
    "<img src=\"img/Markov.png\" alt=\"datetime\" style=\"width: 400px;\"/>\n",
    "----"
   ]
  },
  {
   "cell_type": "markdown",
   "metadata": {},
   "source": [
    "##  로지스틱/마르코프 체인 모델을 이용한 한국프로농구 순위 예측\n",
    "\n",
    "### 차이점수에 따른 다음 홈 경에서의 전이확률 추정\n",
    "1. Y: 홈경기에서 경기의 승패, x: 홈경기에서 점수 차이\n",
    "2. logistic regression을 이용하여 전이확률 계산\n",
    "<img src=\"img/로지스틱결과.png\" alt=\"datetime\" style=\"width: 400px;\"/>\n",
    "   - 상수항: A팀이 홈에서 경기할 경우 exp(.001)=1.001로 약 1.001배 정도 다음 경기에서 승리할 확률이 높아진다는 것을 의미 \n",
    "   \n",
    "   - 홈경기 점수차이 계수: 점수차이가 1점 올라 갈수록 그다음 경기서 승리할 확률이 exp(.006)=1.006배 정도 높아진다\n",
    "   \n",
    "   - 상수항은 통계적으로 유의하지 않음\n",
    "   \n",
    "   - 모형을 통한 예측값과 실제 차이를 $x^2$ 값으로 검정하여 모형의 타당성 검증\n",
    "   - 홈경기의 승리확률\n",
    "<img src=\"img/승리확률.png\" alt=\"datetime\" style=\"width: 200px;\"/>\n",
    "-----\n",
    "\n",
    "### 팀 vs. 팀 승리 확률 추정\n",
    "- 홈경기 30회, 방문경기 30회 \n",
    "- A팀은 B팀과의 전이확률이 약 0.99 => $30\\times0.99\\approx29.7$회 홈경기 승리 \n",
    "- 방문경기인 경우 $30\\times(1-0.24)\\approx22.8$회 승리 \n",
    "$\\rightarrow$ 최근 5시즌 동안 총 $29.7+22.8\\approx52.5$회 승리했다고 추정\n",
    "-----\n",
    "### 우리 데이터에 어떻게 적용할 수 있을 까?\n",
    "- 지연 시간 $ x = actualtime - scheduledtime$을 구한 후 다음 비행기의 지연여부 Y 에 대해서 logistic regression을 한 후 전이확률 추정\n",
    "- 전이 확률로 가중치 부여 or 전이 확률이 우리가 정한 threshold를 넘으면 가중치 부여 \n"
   ]
  },
  {
   "cell_type": "markdown",
   "metadata": {},
   "source": [
    "## Bus arrival time prediction using stochastic time series and Markov Chains\n",
    "\n",
    "### Delay Propagation Model \n",
    "- prediction of the bus arrival time is soely based on the prediction of the bus delay at downstream stops **due to observed delay at the origin stop**\n",
    "<img src=\"img/1.png\" alt=\"datetime\" style=\"width: 130px;\"/>\n",
    "<img src=\"img/2.png\" alt=\"datetime\" style=\"width: 130px;\"/>\n",
    "<img src=\"img/3.png\" alt=\"datetime\" style=\"width: 400px;\"/>\n",
    "---\n",
    "- $(D_0,_2),...,(D_0,_d) $ are determined usint the **successive application of the Markov chain**\n",
    "    - Assumption: delay states between two time-points are **homogenous** having similar traffic characteristics\n",
    "<img src=\"img/4.png\" alt=\"datetime\" style=\"width: 130px;\"/>\n",
    "<img src=\"img/5.png\" alt=\"datetime\" style=\"width: 400px;\"/>\n",
    "    - **heterogeneity** of delay states\n",
    "<img src=\"img/6.png\" alt=\"datetime\" style=\"width: 200px;\"/>\n",
    "<img src=\"img/7.png\" alt=\"datetime\" style=\"width: 400px;\"/>\n",
    "---\n",
    "<img src=\"img/17.png\" alt=\"datetime\" style=\"width: 400px;\"/>"
   ]
  },
  {
   "cell_type": "markdown",
   "metadata": {},
   "source": [
    "<img src=\"img/15.png\" alt=\"datetime\" style=\"width: 200px;\"/>\n",
    "<img src=\"img/9_2.png\" alt=\"datetime\" style=\"width: 300px;\"/>\n",
    "<img src=\"img/10.png\" alt=\"datetime\" style=\"width: 300px;\"/>\n",
    "<img src=\"img/11.png\" alt=\"datetime\" style=\"width: 400px;\"/>\n",
    "<img src=\"img/8.png\" alt=\"datetime\" style=\"width: 400px;\"/>\n",
    "<img src=\"img/16.png\" alt=\"datetime\" style=\"width: 400px;\"/>\n",
    "<img src=\"img/13.png\" alt=\"datetime\" style=\"width: 400px;\"/>"
   ]
  },
  {
   "cell_type": "markdown",
   "metadata": {},
   "source": [
    "### 우리 데이터에 어떻게 적용할 수 있을 까?\n",
    "- 공항을 한 4개정도 클러스터링을 함 \n",
    "- 시작시점 0 설정, 끝 시간 i 설정\n",
    "- 0과 l사이에 존재하는 운항기에 대해서 도착상태를 (delay, on-time, early) 확인하고, transition matrix를 구하여 i에서의 predicted delay를 구한다! "
   ]
  },
  {
   "cell_type": "markdown",
   "metadata": {},
   "source": [
    "## Delay Propagation Model\n",
    "\n",
    "- predicted delay vs. scheduled arrival time at each time-point \n",
    "- prediction of the bus arrival time is soley based on the prediction of the bus delay at downstream stops due to observed delay at the origin stop \n",
    "- "
   ]
  },
  {
   "cell_type": "markdown",
   "metadata": {},
   "source": []
  },
  {
   "cell_type": "markdown",
   "metadata": {},
   "source": []
  },
  {
   "cell_type": "markdown",
   "metadata": {},
   "source": []
  },
  {
   "cell_type": "markdown",
   "metadata": {},
   "source": []
  },
  {
   "cell_type": "code",
   "execution_count": 2,
   "metadata": {
    "ExecuteTime": {
     "end_time": "2019-07-30T13:07:10.626505Z",
     "start_time": "2019-07-30T13:07:06.159886Z"
    }
   },
   "outputs": [
    {
     "data": {
      "text/html": [
       "<div>\n",
       "<style scoped>\n",
       "    .dataframe tbody tr th:only-of-type {\n",
       "        vertical-align: middle;\n",
       "    }\n",
       "\n",
       "    .dataframe tbody tr th {\n",
       "        vertical-align: top;\n",
       "    }\n",
       "\n",
       "    .dataframe thead th {\n",
       "        text-align: right;\n",
       "    }\n",
       "</style>\n",
       "<table border=\"1\" class=\"dataframe\">\n",
       "  <thead>\n",
       "    <tr style=\"text-align: right;\">\n",
       "      <th></th>\n",
       "      <th>SDT_YY</th>\n",
       "      <th>SDT_MM</th>\n",
       "      <th>SDT_DD</th>\n",
       "      <th>SDT_DY</th>\n",
       "      <th>ARP</th>\n",
       "      <th>ODP</th>\n",
       "      <th>FLO</th>\n",
       "      <th>FLT</th>\n",
       "      <th>REG</th>\n",
       "      <th>AOD</th>\n",
       "      <th>IRR</th>\n",
       "      <th>STT</th>\n",
       "      <th>ATT</th>\n",
       "      <th>DLY</th>\n",
       "      <th>DRR</th>\n",
       "      <th>CNL</th>\n",
       "      <th>CNR</th>\n",
       "    </tr>\n",
       "  </thead>\n",
       "  <tbody>\n",
       "    <tr>\n",
       "      <th>0</th>\n",
       "      <td>2017</td>\n",
       "      <td>1</td>\n",
       "      <td>1</td>\n",
       "      <td>일</td>\n",
       "      <td>ARP3</td>\n",
       "      <td>ARP6</td>\n",
       "      <td>J</td>\n",
       "      <td>J1955</td>\n",
       "      <td>SEw3NzE4</td>\n",
       "      <td>D</td>\n",
       "      <td>N</td>\n",
       "      <td>10:05</td>\n",
       "      <td>10:32</td>\n",
       "      <td>N</td>\n",
       "      <td>NaN</td>\n",
       "      <td>N</td>\n",
       "      <td>NaN</td>\n",
       "    </tr>\n",
       "    <tr>\n",
       "      <th>1</th>\n",
       "      <td>2017</td>\n",
       "      <td>1</td>\n",
       "      <td>1</td>\n",
       "      <td>일</td>\n",
       "      <td>ARP3</td>\n",
       "      <td>ARP6</td>\n",
       "      <td>J</td>\n",
       "      <td>J1954</td>\n",
       "      <td>SEw3NzE4</td>\n",
       "      <td>A</td>\n",
       "      <td>N</td>\n",
       "      <td>9:30</td>\n",
       "      <td>9:31</td>\n",
       "      <td>N</td>\n",
       "      <td>NaN</td>\n",
       "      <td>N</td>\n",
       "      <td>NaN</td>\n",
       "    </tr>\n",
       "    <tr>\n",
       "      <th>2</th>\n",
       "      <td>2017</td>\n",
       "      <td>1</td>\n",
       "      <td>1</td>\n",
       "      <td>일</td>\n",
       "      <td>ARP3</td>\n",
       "      <td>ARP6</td>\n",
       "      <td>J</td>\n",
       "      <td>J1956</td>\n",
       "      <td>SEw3NzE4</td>\n",
       "      <td>A</td>\n",
       "      <td>N</td>\n",
       "      <td>12:45</td>\n",
       "      <td>13:03</td>\n",
       "      <td>N</td>\n",
       "      <td>NaN</td>\n",
       "      <td>N</td>\n",
       "      <td>NaN</td>\n",
       "    </tr>\n",
       "    <tr>\n",
       "      <th>3</th>\n",
       "      <td>2017</td>\n",
       "      <td>1</td>\n",
       "      <td>1</td>\n",
       "      <td>일</td>\n",
       "      <td>ARP3</td>\n",
       "      <td>ARP6</td>\n",
       "      <td>J</td>\n",
       "      <td>J1957</td>\n",
       "      <td>SEw3NzE4</td>\n",
       "      <td>D</td>\n",
       "      <td>N</td>\n",
       "      <td>13:25</td>\n",
       "      <td>14:09</td>\n",
       "      <td>Y</td>\n",
       "      <td>C02</td>\n",
       "      <td>N</td>\n",
       "      <td>NaN</td>\n",
       "    </tr>\n",
       "    <tr>\n",
       "      <th>4</th>\n",
       "      <td>2017</td>\n",
       "      <td>1</td>\n",
       "      <td>1</td>\n",
       "      <td>일</td>\n",
       "      <td>ARP3</td>\n",
       "      <td>ARP6</td>\n",
       "      <td>J</td>\n",
       "      <td>J1958</td>\n",
       "      <td>SEw3NzE4</td>\n",
       "      <td>A</td>\n",
       "      <td>N</td>\n",
       "      <td>16:10</td>\n",
       "      <td>16:31</td>\n",
       "      <td>N</td>\n",
       "      <td>NaN</td>\n",
       "      <td>N</td>\n",
       "      <td>NaN</td>\n",
       "    </tr>\n",
       "  </tbody>\n",
       "</table>\n",
       "</div>"
      ],
      "text/plain": [
       "   SDT_YY  SDT_MM  SDT_DD SDT_DY   ARP   ODP FLO    FLT       REG AOD IRR  \\\n",
       "0    2017       1       1      일  ARP3  ARP6   J  J1955  SEw3NzE4   D   N   \n",
       "1    2017       1       1      일  ARP3  ARP6   J  J1954  SEw3NzE4   A   N   \n",
       "2    2017       1       1      일  ARP3  ARP6   J  J1956  SEw3NzE4   A   N   \n",
       "3    2017       1       1      일  ARP3  ARP6   J  J1957  SEw3NzE4   D   N   \n",
       "4    2017       1       1      일  ARP3  ARP6   J  J1958  SEw3NzE4   A   N   \n",
       "\n",
       "     STT    ATT DLY  DRR CNL  CNR  \n",
       "0  10:05  10:32   N  NaN   N  NaN  \n",
       "1   9:30   9:31   N  NaN   N  NaN  \n",
       "2  12:45  13:03   N  NaN   N  NaN  \n",
       "3  13:25  14:09   Y  C02   N  NaN  \n",
       "4  16:10  16:31   N  NaN   N  NaN  "
      ]
     },
     "execution_count": 2,
     "metadata": {},
     "output_type": "execute_result"
    }
   ],
   "source": [
    "import pandas as pd\n",
    "data = pd.read_csv('/Users/Mac/Desktop/빅콘테스트/data/AFSNT.csv',encoding='CP949')\n",
    "data.head()"
   ]
  },
  {
   "cell_type": "code",
   "execution_count": null,
   "metadata": {},
   "outputs": [],
   "source": [
    "# 공항별\n",
    "\n",
    "# 시간대별\n",
    "\n",
    "# 지연개수 "
   ]
  }
 ],
 "metadata": {
  "kernelspec": {
   "display_name": "Python 3",
   "language": "python",
   "name": "python3"
  },
  "language_info": {
   "codemirror_mode": {
    "name": "ipython",
    "version": 3
   },
   "file_extension": ".py",
   "mimetype": "text/x-python",
   "name": "python",
   "nbconvert_exporter": "python",
   "pygments_lexer": "ipython3",
   "version": "3.6.6"
  },
  "toc": {
   "base_numbering": 1,
   "nav_menu": {},
   "number_sections": true,
   "sideBar": true,
   "skip_h1_title": false,
   "title_cell": "Table of Contents",
   "title_sidebar": "Contents",
   "toc_cell": false,
   "toc_position": {},
   "toc_section_display": true,
   "toc_window_display": false
  }
 },
 "nbformat": 4,
 "nbformat_minor": 2
}
