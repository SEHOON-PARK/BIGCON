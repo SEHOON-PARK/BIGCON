{
 "cells": [
  {
   "cell_type": "markdown",
   "metadata": {},
   "source": [
    "## 출처 \n",
    "1. Prediction and Uncertainty Quantification of Daily Airport Flight Delays"
   ]
  },
  {
   "cell_type": "code",
   "execution_count": null,
   "metadata": {},
   "outputs": [],
   "source": []
  },
  {
   "cell_type": "markdown",
   "metadata": {},
   "source": [
    "## NN\n",
    "\n",
    "<img src=\"image/NN.png\" alt=\"datetime\" style=\"width: 200px;\"/>\n",
    "----"
   ]
  },
  {
   "cell_type": "markdown",
   "metadata": {},
   "source": [
    "- RNN 모형\n",
    "<img src=\"image/RNN.png\" alt=\"datetime\" style=\"width: 100px;\"/>"
   ]
  },
  {
   "cell_type": "markdown",
   "metadata": {},
   "source": [
    "- Time Sequence \n",
    "<img src=\"image/RNN2.png\" alt=\"datetime\" style=\"width: 400px;\"/>"
   ]
  },
  {
   "cell_type": "markdown",
   "metadata": {},
   "source": [
    "- 실제 RNN 모형도\n",
    "<img src=\"image/RNN3.png\" alt=\"datetime\" style=\"width: 400px;\"/>"
   ]
  },
  {
   "cell_type": "markdown",
   "metadata": {},
   "source": [
    "# 시간 의존성 문제\n",
    "<img src=\"image/RNN4.png\" alt=\"datetime\" style=\"width: 400px;\"/>\n",
    "\n",
    "-- ex) \"i\" \"am\" a boy"
   ]
  },
  {
   "cell_type": "markdown",
   "metadata": {},
   "source": [
    "<img src=\"image/RNN5.png\" alt=\"datetime\" style=\"width: 400px;\"/>\n",
    "-- ex) \"i\" am a \"boy\"\n",
    "\n",
    "    1. 시간성 척도가 멀어질 수록 가중영향을 받지 못한다.\n",
    "    "
   ]
  },
  {
   "cell_type": "markdown",
   "metadata": {},
   "source": [
    "<img src=\"image/Activate.png\" alt=\"datetime\" style=\"width: 200px;\"/>"
   ]
  },
  {
   "cell_type": "markdown",
   "metadata": {},
   "source": [
    "<img src=\"image/RNN7.png\" alt=\"datetime\" style=\"width: 300px;\"/>\n",
    "<img src=\"image/RNN6.png\" alt=\"datetime\" style=\"width: 300px;\"/>\n",
    "\n",
    "One Hot Encoding으로 인해 산출되는 원소별 가중값들이 시간에 따라 다르게 반영됨.\n",
    "(퍼셉트론 참고)"
   ]
  },
  {
   "cell_type": "markdown",
   "metadata": {},
   "source": [
    "<img src=\"image/LSTM.png\" alt=\"datetime\" style=\"width: 400px;\"/>"
   ]
  },
  {
   "cell_type": "markdown",
   "metadata": {},
   "source": [
    "# 데이터 구조\n",
    "<img src=\"image/excel1.png\" alt=\"datetime\" style=\"width: 400px;\"/>\n",
    "-One Hot Encoding"
   ]
  },
  {
   "cell_type": "markdown",
   "metadata": {},
   "source": [
    "<img src=\"image/excel2.png\" alt=\"datetime\" style=\"width: 400px;\"/>\n",
    "-Sequence 추가"
   ]
  },
  {
   "cell_type": "markdown",
   "metadata": {},
   "source": [
    "<img src=\"image/excel3.png\" alt=\"datetime\" style=\"width: 600px;\"/>\n",
    "-문장 순서, 중복 Categorinized 된 변수 처리"
   ]
  },
  {
   "cell_type": "markdown",
   "metadata": {},
   "source": [
    "# Free Bird 선행 연구\n",
    "\n",
    "링크 : https://www.youtube.com/watch?v=014HoDQNp2o"
   ]
  },
  {
   "cell_type": "markdown",
   "metadata": {},
   "source": [
    "<img src=\"image/FB.png\" alt=\"datetime\" style=\"width: 400px;\"/>\n",
    "<img src=\"image/FB2.png\" alt=\"datetime\" style=\"width: 600px;\"/>\n",
    "<img src=\"image/FB3.png\" alt=\"datetime\" style=\"width: 600px;\"/>\n",
    "<img src=\"image/FB4.png\" alt=\"datetime\" style=\"width: 600px;\"/>"
   ]
  },
  {
   "cell_type": "code",
   "execution_count": null,
   "metadata": {},
   "outputs": [],
   "source": []
  }
 ],
 "metadata": {
  "kernelspec": {
   "display_name": "Python 3",
   "language": "python",
   "name": "python3"
  },
  "language_info": {
   "codemirror_mode": {
    "name": "ipython",
    "version": 3
   },
   "file_extension": ".py",
   "mimetype": "text/x-python",
   "name": "python",
   "nbconvert_exporter": "python",
   "pygments_lexer": "ipython3",
   "version": "3.6.8"
  }
 },
 "nbformat": 4,
 "nbformat_minor": 2
}
